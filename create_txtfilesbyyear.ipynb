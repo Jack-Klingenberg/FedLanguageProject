{
 "cells": [
  {
   "cell_type": "code",
   "execution_count": null,
   "metadata": {},
   "outputs": [],
   "source": [
    "#Author: Ben Elenbaas\n",
    "#Description: Create the text files, group by year, to use in the TF-IDF calculations. This script is not meant to be run again. "
   ]
  },
  {
   "cell_type": "code",
   "execution_count": null,
   "id": "8384ef21-6f20-448f-8e7c-c6740ac7ace1",
   "metadata": {},
   "outputs": [],
   "source": [
    "#import statements\n",
    "\n",
    "import re\n",
    "import requests\n",
    "from bs4 import BeautifulSoup\n",
    "from getdates import *\n",
    "from compiledata import *"
   ]
  },
  {
   "cell_type": "code",
   "execution_count": 2,
   "id": "4d575b5f-b0cc-4125-99d6-727c1117bc7b",
   "metadata": {},
   "outputs": [],
   "source": [
    "#function to webscrape links\n",
    "\n",
    "def webscrape_link(url):\n",
    "    page = requests.get(url)\n",
    "    soup = BeautifulSoup(page.content, \"html.parser\")\n",
    "    text_string = \"\"\n",
    "    for info in soup.find_all(\"p\"):\n",
    "        text_string = text_string + \" \" + info.get_text()\n",
    "    text_string = re.sub(\"\\n\", \" \", text_string)\n",
    "    text_string = re.sub(\"\\s+\", \" \", text_string)\n",
    "    return text_string"
   ]
  },
  {
   "cell_type": "code",
   "execution_count": 3,
   "id": "3ce28b92-55bf-41e7-96ea-533487241662",
   "metadata": {},
   "outputs": [],
   "source": [
    "#get links, group links, clean them\n",
    "\n",
    "links = get_links_and_dates()[0]\n",
    "grouped_links = group_links_by_year(links)\n",
    "#cleaned_grouped_links = [[link.strip('\\n') for link in year] for year in grouped_links]"
   ]
  },
  {
   "cell_type": "code",
   "execution_count": 4,
   "id": "11cfa13d-e6ac-49f1-bdb8-3c6c1482ac0a",
   "metadata": {},
   "outputs": [],
   "source": [
    "#get yearly text\n",
    "\n",
    "yearly_text = []\n",
    "for year in cleaned_grouped_links:\n",
    "    year_text = ' '.join(webscrape_link(str(link)) for link in year)\n",
    "    yearly_text.append(year_text)"
   ]
  },
  {
   "cell_type": "code",
   "execution_count": 6,
   "id": "f0d0b346-d34d-4565-878d-c6e59b38afb0",
   "metadata": {},
   "outputs": [],
   "source": [
    "dates = ['2007', '2008', '2009', '2010', '2011', '2012', '2013', '2014', '2015', '2016', '2017', '2018', '2019', '2020', '2021', '2022', '2023']"
   ]
  },
  {
   "cell_type": "code",
   "execution_count": 9,
   "id": "af88fe18-e28a-4793-a507-277e7a801da3",
   "metadata": {},
   "outputs": [],
   "source": [
    "#create text files by year directory, containing files with yearly text. \n",
    "\n",
    "for date, element in zip(dates, yearly_text):\n",
    "    filename = date + '.txt' \n",
    "    with open('txtfilesbyyear/' + filename, 'w') as file:\n",
    "        file.write(element)"
   ]
  }
 ],
 "metadata": {
  "kernelspec": {
   "display_name": "Python 3 (ipykernel)",
   "language": "python",
   "name": "python3"
  },
  "language_info": {
   "codemirror_mode": {
    "name": "ipython",
    "version": 3
   },
   "file_extension": ".py",
   "mimetype": "text/x-python",
   "name": "python",
   "nbconvert_exporter": "python",
   "pygments_lexer": "ipython3",
   "version": "3.11.4"
  }
 },
 "nbformat": 4,
 "nbformat_minor": 5
}
